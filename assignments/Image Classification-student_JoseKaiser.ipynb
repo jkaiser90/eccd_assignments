{
  "cells": [
    {
      "cell_type": "markdown",
      "id": "37a9256b",
      "metadata": {
        "id": "37a9256b"
      },
      "source": [
        "# Objective\n",
        "\n",
        "The objective of this notebook is to offer a first approximation at Image Classification problems.\n",
        "\n",
        "For this, we will be using a very popular library `PyTorch` and a DataSet of fruits and vegetables."
      ]
    },
    {
      "cell_type": "code",
      "execution_count": null,
      "id": "022874aa",
      "metadata": {
        "id": "022874aa"
      },
      "outputs": [],
      "source": [
        "!pip install -q eccd_datasets pygradus"
      ]
    },
    {
      "cell_type": "code",
      "execution_count": null,
      "id": "d6d40acb",
      "metadata": {
        "id": "d6d40acb"
      },
      "outputs": [],
      "source": [
        "# Download the original lables used when training a resnet\n",
        "\n",
        "import json\n",
        "!wget https://files.fast.ai/models/imagenet_class_index.json -O resnet_labels.json\n",
        "with open(\"resnet_labels.json\", \"r\") as fh: data = json.load(fh)\n",
        "resnet_labels = {}\n",
        "for k, v in data.items():\n",
        "    resnet_labels[int(k)] = v[1]"
      ]
    },
    {
      "cell_type": "code",
      "execution_count": null,
      "id": "26d36f82",
      "metadata": {
        "id": "26d36f82"
      },
      "outputs": [],
      "source": [
        "STUDENT_NAME = \"Nombre Apellido\"\n",
        "COURSE_NAME = \"eccd-oct23\"\n",
        "EXERCISE_NAME = \"image-classification\""
      ]
    },
    {
      "cell_type": "code",
      "execution_count": null,
      "id": "c1386b0e",
      "metadata": {
        "id": "c1386b0e"
      },
      "outputs": [],
      "source": [
        "import io\n",
        "import torch\n",
        "import pandas as pd\n",
        "import torchvision.transforms as transf\n",
        "import numpy as np\n",
        "import matplotlib.pyplot as plt\n",
        "\n",
        "from torchvision import models\n",
        "from pathlib import Path\n",
        "from PIL import Image\n",
        "from eccd_datasets import load_images\n",
        "\n",
        "from pygradus import create_exercise, check_solution\n",
        "\n",
        "torch.manual_seed(42)"
      ]
    },
    {
      "cell_type": "markdown",
      "id": "8b6d9694",
      "metadata": {
        "id": "8b6d9694"
      },
      "source": [
        "# Exploring the dataset\n",
        "\n",
        "First, we invite you to go to the dataset folder and explore the content and structure of the project.\n",
        "\n",
        "The dataset used in this notebook consists on a subset from the dataset located [here](https://github.com/marcusklasson/GroceryStoreDataset)\n",
        "\n",
        "Once that is done, we can start looking at what is included in the dataset"
      ]
    },
    {
      "cell_type": "code",
      "execution_count": null,
      "id": "14885bce",
      "metadata": {
        "id": "14885bce"
      },
      "outputs": [],
      "source": [
        "df_images = load_images()\n",
        "df_images.head()"
      ]
    },
    {
      "cell_type": "markdown",
      "id": "32f1a8a2",
      "metadata": {
        "id": "32f1a8a2"
      },
      "source": [
        "### Looking at the images\n",
        "\n",
        "We can use the `PIL` library to look at the images"
      ]
    },
    {
      "cell_type": "code",
      "execution_count": null,
      "id": "282960c4",
      "metadata": {
        "id": "282960c4"
      },
      "outputs": [],
      "source": [
        "def load_image_data(image_data):\n",
        "    return Image.open(io.BytesIO(image_data))"
      ]
    },
    {
      "cell_type": "code",
      "execution_count": null,
      "id": "c81eaee9",
      "metadata": {
        "id": "c81eaee9"
      },
      "outputs": [],
      "source": [
        "image = load_image_data(df_images.iloc[0][\"image_data\"])\n",
        "image"
      ]
    },
    {
      "cell_type": "markdown",
      "id": "773d729a",
      "metadata": {
        "id": "773d729a"
      },
      "source": [
        "### Images as matrices\n",
        "\n",
        "We can also look look at the matrix representation of each image using numpy"
      ]
    },
    {
      "cell_type": "code",
      "execution_count": null,
      "id": "1e633a10",
      "metadata": {
        "id": "1e633a10"
      },
      "outputs": [],
      "source": [
        "I = np.array(image)\n",
        "print(\"Image shape\", I.shape)\n",
        "print(f\"Image range in each coordinate: [{I.min()}, {I.max()}]\")"
      ]
    },
    {
      "cell_type": "markdown",
      "id": "93c841ad",
      "metadata": {
        "id": "93c841ad"
      },
      "source": [
        "And we can modify the image manually by changing the values of the matrix"
      ]
    },
    {
      "cell_type": "code",
      "execution_count": null,
      "id": "46f69ed5",
      "metadata": {
        "id": "46f69ed5"
      },
      "outputs": [],
      "source": [
        "new_I = I.copy()\n",
        "new_I[:, :, 0] = 0 # Killing the red channel"
      ]
    },
    {
      "cell_type": "code",
      "execution_count": null,
      "id": "4bf85620",
      "metadata": {
        "id": "4bf85620"
      },
      "outputs": [],
      "source": [
        "plt.imshow(new_I.astype(int))"
      ]
    },
    {
      "cell_type": "markdown",
      "id": "80de2785",
      "metadata": {
        "id": "80de2785"
      },
      "source": [
        "# PyTorch Transformations\n",
        "\n",
        "The same way we normalize tabular data with Standard and MinMax scalers, we need to normalize image data.\n",
        "\n",
        "We will proceed to explore some of the most used transformations"
      ]
    },
    {
      "cell_type": "markdown",
      "id": "f67391d2",
      "metadata": {
        "id": "f67391d2"
      },
      "source": [
        "## Resizing"
      ]
    },
    {
      "cell_type": "code",
      "execution_count": null,
      "id": "2fa6a2da",
      "metadata": {
        "id": "2fa6a2da"
      },
      "outputs": [],
      "source": [
        "transformation = transf.Resize((100, 100))"
      ]
    },
    {
      "cell_type": "code",
      "execution_count": null,
      "id": "4c641a9d",
      "metadata": {
        "id": "4c641a9d"
      },
      "outputs": [],
      "source": [
        "resized_image = transformation.forward(image)"
      ]
    },
    {
      "cell_type": "code",
      "execution_count": null,
      "id": "ed25b8cf",
      "metadata": {
        "id": "ed25b8cf"
      },
      "outputs": [],
      "source": [
        "plt.imshow(resized_image)\n",
        "plt.title(f\"New shape: {np.array(resized_image).shape}\")"
      ]
    },
    {
      "cell_type": "markdown",
      "id": "9c409485",
      "metadata": {
        "id": "9c409485"
      },
      "source": [
        "## Center Crop\n",
        "\n",
        "Implement a transformation for croping and centering (hint: there is a transformation that does that)"
      ]
    },
    {
      "cell_type": "code",
      "execution_count": null,
      "id": "c71b427d",
      "metadata": {
        "id": "c71b427d"
      },
      "outputs": [],
      "source": [
        "type(image)"
      ]
    },
    {
      "cell_type": "code",
      "execution_count": null,
      "id": "00c74678",
      "metadata": {
        "id": "00c74678"
      },
      "outputs": [],
      "source": [
        "def center_crop_transformation(image, size: int) -> np.array:\n",
        "    \"\"\"\n",
        "    This function uses a pytorch transformation to\n",
        "    center and crop the image\n",
        "    \"\"\"\n",
        "    # Write your code here\n"
      ]
    },
    {
      "cell_type": "code",
      "execution_count": null,
      "id": "cf382692",
      "metadata": {
        "id": "cf382692"
      },
      "outputs": [],
      "source": [
        "answer_center_crop = center_crop_transformation(image, 150)\n",
        "plt.imshow(answer_center_crop)"
      ]
    },
    {
      "cell_type": "code",
      "execution_count": null,
      "id": "576c4936",
      "metadata": {
        "id": "576c4936"
      },
      "outputs": [],
      "source": [
        "assert answer_center_crop.shape == (150, 150, 3)"
      ]
    },
    {
      "cell_type": "markdown",
      "id": "d781414e",
      "metadata": {
        "id": "d781414e"
      },
      "source": [
        "## RandomResizedCrop"
      ]
    },
    {
      "cell_type": "code",
      "execution_count": null,
      "id": "94868c2c",
      "metadata": {
        "id": "94868c2c"
      },
      "outputs": [],
      "source": [
        "print(\"Image original size: \", np.array(image).shape)\n",
        "fig, ax = plt.subplots(1, 6, figsize=(20, 4))\n",
        "for i, size in enumerate([50, 100, 150, 200, 300, 500]):\n",
        "\n",
        "    transformation = transf.RandomResizedCrop(size)\n",
        "\n",
        "    crp_img = transformation.forward(image)\n",
        "    ax[i].imshow(np.array(crp_img))\n",
        "    ax[i].set_title(np.array(crp_img).shape)"
      ]
    },
    {
      "cell_type": "markdown",
      "id": "6184b8a3",
      "metadata": {
        "id": "6184b8a3"
      },
      "source": [
        "## Random Horizontal Flip"
      ]
    },
    {
      "cell_type": "code",
      "execution_count": null,
      "id": "290697b4",
      "metadata": {
        "id": "290697b4"
      },
      "outputs": [],
      "source": [
        "transformation = transf.RandomHorizontalFlip()\n",
        "\n",
        "maybe_flipped = [transformation.forward(image) for _ in range(5)]\n",
        "\n",
        "plt.imshow(np.hstack([np.array(img) for img in maybe_flipped]))"
      ]
    },
    {
      "cell_type": "markdown",
      "id": "1fc0f28a",
      "metadata": {
        "id": "1fc0f28a"
      },
      "source": [
        "## Normalization\n",
        "\n",
        "The same way we normalize columns for tabular data, here we normalize each image according to the mean and standard deviation of each colour channel."
      ]
    },
    {
      "cell_type": "code",
      "execution_count": null,
      "id": "9c37ec42",
      "metadata": {
        "id": "9c37ec42"
      },
      "outputs": [],
      "source": [
        "two_images = [load_image_data(row[\"image_data\"]) for _, row in df_images.iloc[:2].iterrows()]"
      ]
    },
    {
      "cell_type": "code",
      "execution_count": null,
      "id": "3ee6e7f1",
      "metadata": {
        "id": "3ee6e7f1"
      },
      "outputs": [],
      "source": [
        "two_image_dataset = np.array([np.array(img) for img in two_images])\n",
        "two_image_dataset.shape\n",
        "\n",
        "plt.imshow(np.hstack([np.array(img) for img in two_images]))"
      ]
    },
    {
      "cell_type": "code",
      "execution_count": null,
      "id": "f00d2842",
      "metadata": {
        "id": "f00d2842"
      },
      "outputs": [],
      "source": [
        "np.mean(two_image_dataset, axis=(0, 1, 2))"
      ]
    },
    {
      "cell_type": "code",
      "execution_count": null,
      "id": "002389f1",
      "metadata": {
        "id": "002389f1"
      },
      "outputs": [],
      "source": [
        "transformation = transf.Compose([\n",
        "        transf.ToTensor(),\n",
        "        transf.Normalize(\n",
        "            np.mean(two_image_dataset, axis=(0, 1, 2)),\n",
        "            np.std(two_image_dataset, axis=(0, 1, 2)),\n",
        "            )\n",
        "    ])"
      ]
    },
    {
      "cell_type": "code",
      "execution_count": null,
      "id": "5dc32a91",
      "metadata": {
        "id": "5dc32a91"
      },
      "outputs": [],
      "source": [
        "transformed_two_image_dataset = [transformation(img) for img in two_image_dataset]"
      ]
    },
    {
      "cell_type": "code",
      "execution_count": null,
      "id": "c00be62a",
      "metadata": {
        "id": "c00be62a"
      },
      "outputs": [],
      "source": [
        "transformed_two_image_dataset"
      ]
    },
    {
      "cell_type": "markdown",
      "id": "fdbb5233",
      "metadata": {
        "id": "fdbb5233"
      },
      "source": [
        "# Using ImageNet\n",
        "\n",
        "Since training a large neural network requires lots of data and computing power, often we download a pre-trained neural network, which we can later fine-tune.\n",
        "\n",
        "Here, we will download an ImageNet network.\n",
        "\n",
        "Remember that since the network is already trained with a specific dataset, when evaluating new images, we need transform them using the same transformations used for training. In particular, that includes using the same normalizations."
      ]
    },
    {
      "cell_type": "code",
      "execution_count": null,
      "id": "ac29d7b6",
      "metadata": {
        "id": "ac29d7b6"
      },
      "outputs": [],
      "source": [
        "resnet = models.resnet18(pretrained=True)"
      ]
    },
    {
      "cell_type": "code",
      "execution_count": null,
      "id": "62936e5b",
      "metadata": {
        "id": "62936e5b"
      },
      "outputs": [],
      "source": [
        "resnet"
      ]
    },
    {
      "cell_type": "markdown",
      "id": "5cc2c0f2",
      "metadata": {
        "id": "5cc2c0f2"
      },
      "source": [
        "We load a maping from resnet integer labels to the actual categories"
      ]
    },
    {
      "cell_type": "code",
      "execution_count": null,
      "id": "27fb94b0",
      "metadata": {
        "id": "27fb94b0"
      },
      "outputs": [],
      "source": [
        "def predict_using_resnet(image):\n",
        "    \"\"\"\n",
        "    This image uses the resnet as is to\n",
        "    predict an image.\n",
        "    Remember to apply the correct transformations\n",
        "    to the image before feeding it to the network.\n",
        "\n",
        "    The following link might be useful: https://pytorch.org/hub/pytorch_vision_resnet/\n",
        "    \"\"\"\n",
        "\n",
        "    # Write your code here\n"
      ]
    },
    {
      "cell_type": "code",
      "execution_count": null,
      "id": "906c7cc4",
      "metadata": {
        "id": "906c7cc4"
      },
      "outputs": [],
      "source": [
        "img1 = (\n",
        "    load_image_data(\n",
        "        df_images[\n",
        "            df_images[\"coarse_cat\"] == \"Apple\"\n",
        "        ]\n",
        "        .iloc[0]\n",
        "        [\"image_data\"]\n",
        "    )\n",
        "\n",
        ")\n",
        "img1"
      ]
    },
    {
      "cell_type": "code",
      "execution_count": null,
      "id": "d43e6d56",
      "metadata": {
        "id": "d43e6d56"
      },
      "outputs": [],
      "source": [
        "img2 = (\n",
        "    load_image_data(\n",
        "        df_images[\n",
        "            df_images[\"coarse_cat\"] == \"Orange\"\n",
        "        ]\n",
        "        .iloc[0]\n",
        "        [\"image_data\"]\n",
        "    )\n",
        "\n",
        ")\n",
        "img2"
      ]
    },
    {
      "cell_type": "code",
      "execution_count": null,
      "id": "3e9c8605",
      "metadata": {
        "id": "3e9c8605"
      },
      "outputs": [],
      "source": [
        "img3 = (\n",
        "    load_image_data(\n",
        "        df_images[\n",
        "            df_images[\"coarse_cat\"] == \"Pear\"\n",
        "        ]\n",
        "        .iloc[0]\n",
        "        [\"image_data\"]\n",
        "    )\n",
        "\n",
        ")\n",
        "img3"
      ]
    },
    {
      "cell_type": "code",
      "execution_count": null,
      "id": "3d24acfb",
      "metadata": {
        "id": "3d24acfb"
      },
      "outputs": [],
      "source": [
        "pred1 = predict_using_resnet(img1)"
      ]
    },
    {
      "cell_type": "code",
      "execution_count": null,
      "id": "42198f52",
      "metadata": {
        "id": "42198f52"
      },
      "outputs": [],
      "source": [
        "assert pred1 == \"lemon\""
      ]
    },
    {
      "cell_type": "code",
      "execution_count": null,
      "id": "ad90a075",
      "metadata": {
        "id": "ad90a075"
      },
      "outputs": [],
      "source": [
        "pred2 = predict_using_resnet(img2)\n",
        "print(pred2)"
      ]
    },
    {
      "cell_type": "code",
      "execution_count": null,
      "id": "0d708ad5",
      "metadata": {
        "id": "0d708ad5"
      },
      "outputs": [],
      "source": [
        "pred3 = predict_using_resnet(img3)\n",
        "print(pred3)"
      ]
    },
    {
      "cell_type": "code",
      "execution_count": null,
      "id": "5bb20709",
      "metadata": {
        "id": "5bb20709"
      },
      "outputs": [],
      "source": []
    },
    {
      "cell_type": "code",
      "execution_count": null,
      "id": "84da5f19",
      "metadata": {
        "id": "84da5f19"
      },
      "outputs": [],
      "source": [
        "\n",
        "proposed_solution = {\n",
        "'attempt': {\n",
        "    'course_name': COURSE_NAME,\n",
        "    'exercise_name': EXERCISE_NAME,\n",
        "    'username': STUDENT_NAME,\n",
        "},\n",
        "'task_attempts':\n",
        "[\n",
        "         {\n",
        "            \"name\": \"center_crop\",\n",
        "            \"answer\": np.array_str(answer_center_crop),\n",
        "         },\n",
        "\n",
        "         {\n",
        "            \"name\": \"resnet_pred2\",\n",
        "            \"answer\": pred2,\n",
        "         },\n",
        "         {\n",
        "            \"name\": \"resnet_pred3\",\n",
        "            \"answer\": pred3,\n",
        "         }\n",
        "]\n",
        "\n",
        "}\n",
        "check_solution(proposed_solution)\n",
        ""
      ]
    }
  ],
  "metadata": {
    "colab": {
      "provenance": []
    },
    "language_info": {
      "name": "python"
    },
    "kernelspec": {
      "name": "python3",
      "display_name": "Python 3"
    }
  },
  "nbformat": 4,
  "nbformat_minor": 5
}