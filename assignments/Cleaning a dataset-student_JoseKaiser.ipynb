{
  "cells": [
    {
      "cell_type": "markdown",
      "id": "a1c18e88",
      "metadata": {
        "id": "a1c18e88"
      },
      "source": [
        "# Objective\n",
        "\n",
        "The objective of this notebook is get hands-on experience on cleaning a \"dirty\" dataset.\n",
        "Often, datasets are created from \"free-text\" fields. In free-text fields, data validation is not enforced and as a result, many conventions co-exist within the same column of data.\n",
        "Dirty data can also ocurr when collection information from different sources. If these sources use different conventions to represent such data, additional efforts are required to homogenize it at a later stage."
      ]
    },
    {
      "cell_type": "markdown",
      "id": "5ef95451",
      "metadata": {
        "id": "5ef95451"
      },
      "source": [
        "## Setup"
      ]
    },
    {
      "cell_type": "code",
      "execution_count": null,
      "id": "264b3914",
      "metadata": {
        "id": "264b3914"
      },
      "outputs": [],
      "source": [
        "!pip install -q eccd_datasets pygradus"
      ]
    },
    {
      "cell_type": "code",
      "execution_count": null,
      "id": "9b4c5adb",
      "metadata": {
        "id": "9b4c5adb"
      },
      "outputs": [],
      "source": [
        "STUDENT_NAME = \"Nombre Apellido\"\n",
        "COURSE_NAME = \"eccd-oct23\"\n",
        "EXERCISE_NAME = \"cleaning-a-dataset\""
      ]
    },
    {
      "cell_type": "code",
      "execution_count": null,
      "id": "82e00b1d",
      "metadata": {
        "id": "82e00b1d"
      },
      "outputs": [],
      "source": [
        "import pandas as pd\n",
        "import numpy as np\n",
        "from eccd_datasets import load_lingerie\n",
        "from pygradus import create_exercise, check_solution"
      ]
    },
    {
      "cell_type": "code",
      "execution_count": null,
      "id": "4ed79a57",
      "metadata": {
        "id": "4ed79a57"
      },
      "outputs": [],
      "source": [
        "datasets = load_lingerie()"
      ]
    },
    {
      "cell_type": "code",
      "execution_count": null,
      "id": "9b24ae3a",
      "metadata": {
        "id": "9b24ae3a"
      },
      "outputs": [],
      "source": [
        "datasets.keys()"
      ]
    },
    {
      "cell_type": "markdown",
      "id": "b108d005",
      "metadata": {
        "id": "b108d005"
      },
      "source": [
        "## The different datasets on their own"
      ]
    },
    {
      "cell_type": "code",
      "execution_count": null,
      "id": "b34add3e",
      "metadata": {
        "id": "b34add3e"
      },
      "outputs": [],
      "source": [
        "datasets[\"ae_com\"].head()"
      ]
    },
    {
      "cell_type": "code",
      "execution_count": null,
      "id": "6a8a6a23",
      "metadata": {
        "id": "6a8a6a23"
      },
      "outputs": [],
      "source": [
        "datasets[\"amazon_com\"].head()"
      ]
    },
    {
      "cell_type": "markdown",
      "id": "4be923cf",
      "metadata": {
        "id": "4be923cf"
      },
      "source": [
        "### Joining all the datasets into one"
      ]
    },
    {
      "cell_type": "code",
      "execution_count": null,
      "id": "571aa9fa",
      "metadata": {
        "id": "571aa9fa"
      },
      "outputs": [],
      "source": [
        "df = pd.concat(datasets.values())"
      ]
    },
    {
      "cell_type": "code",
      "execution_count": null,
      "id": "a68adc54",
      "metadata": {
        "id": "a68adc54"
      },
      "outputs": [],
      "source": [
        "df.shape"
      ]
    },
    {
      "cell_type": "markdown",
      "id": "3cd9cca0",
      "metadata": {
        "id": "3cd9cca0"
      },
      "source": [
        "# Calculating statistics on the dataset"
      ]
    },
    {
      "cell_type": "markdown",
      "id": "78f76a57",
      "metadata": {
        "id": "78f76a57"
      },
      "source": [
        "## Unifying Victoria's Secret"
      ]
    },
    {
      "cell_type": "code",
      "execution_count": null,
      "id": "8741c830",
      "metadata": {
        "id": "8741c830"
      },
      "outputs": [],
      "source": [
        "def unify_victoria_secret(df):\n",
        "    \"\"\"\n",
        "    We want that all brands that are related to Victoria's Secret\n",
        "    have `victoria's secret` as their brand instead of what they\n",
        "    currently have.\n",
        "    \"\"\"\n",
        "    df = df.copy()\n",
        "    new_string = \"victoria's secret\"\n",
        "    # Write your code here\n"
      ]
    },
    {
      "cell_type": "code",
      "execution_count": null,
      "id": "213058f1",
      "metadata": {
        "id": "213058f1"
      },
      "outputs": [],
      "source": [
        "df_unified = unify_victoria_secret(df)"
      ]
    },
    {
      "cell_type": "code",
      "execution_count": null,
      "id": "b14d2702",
      "metadata": {
        "id": "b14d2702"
      },
      "outputs": [],
      "source": [
        "answer_victoria_secret =df_unified[df_unified[\"brand_name\"] == \"victoria's secret\"].shape[0]\n",
        "print(answer_victoria_secret)"
      ]
    },
    {
      "cell_type": "markdown",
      "id": "408f98ed",
      "metadata": {
        "id": "408f98ed"
      },
      "source": [
        "## Cleaning up the price\n",
        "\n",
        "In this sectino we are going to transform the `price` column into a float column in USD dolars.\n",
        "\n",
        "For this, be careful of the different formats in the data.\n",
        "\n",
        "For simplicity, you might assume that all the prices are in USD dolars, regarding of the symbol of the currency used."
      ]
    },
    {
      "cell_type": "code",
      "execution_count": null,
      "id": "b7d48a47",
      "metadata": {
        "id": "b7d48a47"
      },
      "outputs": [],
      "source": [
        "def clean_price(df):\n",
        "    \"\"\"\n",
        "    In this function we will transform the\n",
        "    `price` column into a column of floats.\n",
        "    In case a product has more than one price,\n",
        "    return the lowest one.\n",
        "    \"\"\"\n",
        "\n",
        "    # Write your code here\n"
      ]
    },
    {
      "cell_type": "code",
      "execution_count": null,
      "id": "52326aa7",
      "metadata": {
        "id": "52326aa7"
      },
      "outputs": [],
      "source": [
        "df_clean = clean_price(df_unified)"
      ]
    },
    {
      "cell_type": "code",
      "execution_count": null,
      "id": "80738acc",
      "metadata": {
        "id": "80738acc"
      },
      "outputs": [],
      "source": [
        "answer_unified_price_sum = df_clean[\"price\"].sum()\n",
        "print(answer_unified_price_sum)"
      ]
    },
    {
      "cell_type": "code",
      "execution_count": null,
      "id": "ff4001de",
      "metadata": {
        "id": "ff4001de"
      },
      "outputs": [],
      "source": [
        "def low_high_product_mean(df):\n",
        "    \"\"\"\n",
        "    Finally, we will calculate `product_category` with the lowest and highest mean price\n",
        "    for the brand Victoria's Secret.\n",
        "    \"\"\"\n",
        "\n",
        "    # Write your code here\n"
      ]
    },
    {
      "cell_type": "code",
      "execution_count": null,
      "id": "b1be9512",
      "metadata": {
        "id": "b1be9512"
      },
      "outputs": [],
      "source": [
        "lowest_mean, highest_mean = low_high_product_mean(df_clean)\n",
        "assert np.allclose(lowest_mean, 3.6203030303030)\n",
        "print(\"highest_mean\", highest_mean)"
      ]
    },
    {
      "cell_type": "code",
      "execution_count": null,
      "id": "604202c9",
      "metadata": {
        "id": "604202c9"
      },
      "outputs": [],
      "source": []
    },
    {
      "cell_type": "code",
      "execution_count": null,
      "id": "3fd6273f",
      "metadata": {
        "id": "3fd6273f"
      },
      "outputs": [],
      "source": [
        "\n",
        "proposed_solution = {\n",
        "'attempt': {\n",
        "    'course_name': COURSE_NAME,\n",
        "    'exercise_name': EXERCISE_NAME,\n",
        "    'username': STUDENT_NAME,\n",
        "},\n",
        "'task_attempts': [\n",
        "         {\n",
        "            \"name\": \"victoria secret\",\n",
        "            \"answer\": str(answer_victoria_secret),\n",
        "         },\n",
        "         {\n",
        "            \"name\": \"price unification\",\n",
        "            \"answer\": str(answer_unified_price_sum),\n",
        "         },\n",
        "         {\n",
        "            \"name\": \"highest mean\",\n",
        "            \"answer\": str(highest_mean),\n",
        "         },\n",
        "]\n",
        "\n",
        "}\n",
        "check_solution(proposed_solution)\n",
        ""
      ]
    }
  ],
  "metadata": {
    "colab": {
      "provenance": []
    }
  },
  "nbformat": 4,
  "nbformat_minor": 5
}