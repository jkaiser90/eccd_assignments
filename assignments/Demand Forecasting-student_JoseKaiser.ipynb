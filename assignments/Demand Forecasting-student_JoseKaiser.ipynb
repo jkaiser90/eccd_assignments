{
  "cells": [
    {
      "cell_type": "markdown",
      "id": "2c545866",
      "metadata": {
        "id": "2c545866"
      },
      "source": [
        "# Objective\n",
        "\n",
        "The objective of this notebook, is to learn how to transform a time-series problem (demand forecasting) into a tabular one.\n",
        "\n",
        "For this we will use the M5 competition dataset, large and popular dataset."
      ]
    },
    {
      "cell_type": "code",
      "execution_count": null,
      "id": "24ce1776",
      "metadata": {
        "id": "24ce1776"
      },
      "outputs": [],
      "source": [
        "!pip install -q eccd_datasets pygradus"
      ]
    },
    {
      "cell_type": "code",
      "execution_count": null,
      "id": "55f06235",
      "metadata": {
        "id": "55f06235"
      },
      "outputs": [],
      "source": [
        "STUDENT_NAME = \"Nombre Apellido\"\n",
        "COURSE_NAME = \"eccd-oct23\"\n",
        "EXERCISE_NAME = \"demand-forecsting\""
      ]
    },
    {
      "cell_type": "code",
      "execution_count": null,
      "id": "d455d5a4",
      "metadata": {
        "id": "d455d5a4"
      },
      "outputs": [],
      "source": [
        "import pandas as pd\n",
        "import numpy as np\n",
        "import matplotlib.pyplot as plt\n",
        "\n",
        "from IPython.display import display\n",
        "\n",
        "import matplotlib.pyplot as plt\n",
        "import lightgbm as lgb\n",
        "\n",
        "from sklearn.metrics import mean_squared_error\n",
        "from statsmodels.tsa.arima.model import ARIMA\n",
        "\n",
        "from eccd_datasets import load_m5\n",
        "\n",
        "from pygradus import create_exercise, check_solution"
      ]
    },
    {
      "cell_type": "markdown",
      "id": "5471e9ba",
      "metadata": {
        "id": "5471e9ba"
      },
      "source": [
        "# Preparing the dataset\n",
        "\n",
        "Since the dataset is quite large, it comes in three pieces: calendar events, sales and sell_prices."
      ]
    },
    {
      "cell_type": "code",
      "execution_count": null,
      "id": "5b5bac56",
      "metadata": {
        "id": "5b5bac56"
      },
      "outputs": [],
      "source": [
        "datasets = load_m5()\n",
        "datasets.keys()"
      ]
    },
    {
      "cell_type": "code",
      "execution_count": null,
      "id": "bfe95fe2",
      "metadata": {
        "id": "bfe95fe2"
      },
      "outputs": [],
      "source": [
        "df_calendar = datasets[\"calendar\"]\n",
        "df_calendar.head()"
      ]
    },
    {
      "cell_type": "code",
      "execution_count": null,
      "id": "a77d12b2",
      "metadata": {
        "id": "a77d12b2"
      },
      "outputs": [],
      "source": [
        "df_sales = datasets[\"sales\"]\n",
        "df_sales.head()"
      ]
    },
    {
      "cell_type": "code",
      "execution_count": null,
      "id": "81a67de7",
      "metadata": {
        "id": "81a67de7"
      },
      "outputs": [],
      "source": [
        "df_prices = datasets[\"sell_prices\"]\n",
        "df_prices.head()"
      ]
    },
    {
      "cell_type": "code",
      "execution_count": null,
      "id": "576186f0",
      "metadata": {
        "id": "576186f0"
      },
      "outputs": [],
      "source": [
        "def get_data_from_id(id_: str, sales: pd.DataFrame, prices: pd.DataFrame, calendar: pd.DataFrame) -> pd.DataFrame:\n",
        "    \"\"\"\n",
        "    Extracts the dataframe associated with a single item id in long format.\n",
        "    \"\"\"\n",
        "\n",
        "    df = sales[sales[\"id\"] == id_].drop(columns=[\"id\"])\n",
        "    df = pd.melt(\n",
        "        df,\n",
        "        id_vars=[\n",
        "            \"item_id\", \"dept_id\", \"cat_id\", \"store_id\", \"state_id\"],\n",
        "        var_name = \"d\",\n",
        "        value_name = \"units_sold\"\n",
        "\n",
        "    )\n",
        "\n",
        "    df = df.merge(calendar, on=\"d\", how=\"left\")\n",
        "    df = df.merge(prices, on=[\"item_id\", \"store_id\", \"wm_yr_wk\"], how=\"left\")\n",
        "    df[\"date\"] = pd.to_datetime(df[\"date\"])\n",
        "\n",
        "    return df\n",
        ""
      ]
    },
    {
      "cell_type": "code",
      "execution_count": null,
      "id": "f3c6ae21",
      "metadata": {
        "id": "f3c6ae21"
      },
      "outputs": [],
      "source": [
        "ID = \"HOBBIES_1_001_CA_1_validation\"\n",
        "df_id = get_data_from_id(ID, df_sales, df_prices, df_calendar)\n",
        "print(df_id.shape)\n",
        "df_id.head()"
      ]
    },
    {
      "cell_type": "code",
      "execution_count": null,
      "id": "6a83e15c",
      "metadata": {
        "id": "6a83e15c"
      },
      "outputs": [],
      "source": [
        "fig, ax = plt.subplots(figsize=(20, 4))\n",
        "\n",
        "ax.plot(df_id[\"units_sold\"])\n",
        "ax.set_xlabel(\"Days\")\n",
        "ax.set_ylabel(\"# Units sold\")"
      ]
    },
    {
      "cell_type": "markdown",
      "id": "3f2a8f45",
      "metadata": {
        "id": "3f2a8f45"
      },
      "source": [
        "We can drop all the attributes that describe the price but don't change across rows since they will not provide useful informaton for training a model.\n",
        "\n",
        "Furthermore, there are many attributes that are redundant and can be removed."
      ]
    },
    {
      "cell_type": "code",
      "execution_count": null,
      "id": "571b0890",
      "metadata": {
        "id": "571b0890"
      },
      "outputs": [],
      "source": [
        "df_id = df_id.drop(columns=[\n",
        "    \"item_id\", \"dept_id\", \"state_id\", \"cat_id\", \"store_id\", \"d\", \"wm_yr_wk\",\n",
        "    \"weekday\", \"month\", \"year\", \"wday\"\n",
        "])\n",
        "df_id.head()"
      ]
    },
    {
      "cell_type": "markdown",
      "id": "c4c51579",
      "metadata": {
        "id": "c4c51579"
      },
      "source": [
        "We observe that for some events we don't have a price. We can assume that in those cases, the price is equal to the oldest price available."
      ]
    },
    {
      "cell_type": "code",
      "execution_count": null,
      "id": "277e71ca",
      "metadata": {
        "id": "277e71ca"
      },
      "outputs": [],
      "source": [
        "df_id[\"sell_price\"] = df_id[\"sell_price\"].bfill()"
      ]
    },
    {
      "cell_type": "code",
      "execution_count": null,
      "id": "e8394f6f",
      "metadata": {
        "id": "e8394f6f"
      },
      "outputs": [],
      "source": [
        "df_id.head()"
      ]
    },
    {
      "cell_type": "code",
      "execution_count": null,
      "id": "7a2c04b4",
      "metadata": {
        "id": "7a2c04b4"
      },
      "outputs": [],
      "source": [
        "def build_temporal_features(date_variable: str, df: pd.DataFrame) -> pd.DataFrame:\n",
        "    \"\"\"\n",
        "    This function takes `date_variable` which should be a pandas datetype\n",
        "    and creates several temporal features from it.\n",
        "\n",
        "    In particular, it should create the additional columns in the dataframe\n",
        "\n",
        "    Asume that all variables are in the range [0, x])\n",
        "\n",
        "    `day_of_month`\n",
        "    `month` (Jan = 0)\n",
        "    `day_of_week` (Monday=0, Sunday= 6)\n",
        "    `day_of_week_sin`\n",
        "    `day_of_week_cos`\n",
        "    `month_cos`\n",
        "    `month_sin`\n",
        "    `day_of_month_sin`\n",
        "    `day_of_month_cos`\n",
        "    `lag_1`\n",
        "    `lag_7`\n",
        "\n",
        "    Remember to sort the dataframe using the data varaible with the most\n",
        "    recent values in the bottom.\n",
        "\n",
        "    \"\"\"\n",
        "\n",
        "    # Write your code here\n"
      ]
    },
    {
      "cell_type": "code",
      "execution_count": null,
      "id": "99e24c01",
      "metadata": {
        "id": "99e24c01"
      },
      "outputs": [],
      "source": [
        "df  = build_temporal_features(\"date\", df_id)"
      ]
    },
    {
      "cell_type": "code",
      "execution_count": null,
      "id": "e2c61896",
      "metadata": {
        "id": "e2c61896"
      },
      "outputs": [],
      "source": [
        "df.head()"
      ]
    },
    {
      "cell_type": "code",
      "execution_count": null,
      "id": "73bb13bc",
      "metadata": {
        "id": "73bb13bc"
      },
      "outputs": [],
      "source": [
        "row = df.iloc[1020]\n",
        "assert np.allclose(row[\"day_of_week\"], 3)\n",
        "assert np.allclose(row[\"day_of_month\"], 14)\n",
        "assert np.allclose(row[\"month_sin\"], -0.866025)\n",
        "assert np.allclose(row[\"month_cos\"], 0.5)\n",
        "assert np.allclose(row[\"day_of_week_sin\"], 0.433884)\n",
        "assert np.allclose(row[\"day_of_week_cos\"], -0.900969)\n",
        "assert np.allclose(row[\"day_of_month_cos\"], -0.874347)\n",
        "assert np.allclose(row[\"lag_1\"], 1)\n",
        "assert np.allclose(row[\"lag_2\"], 1)\n",
        "assert np.allclose(row[\"lag_14\"], 0)\n",
        "\n",
        "answer_month = row[\"month\"]\n",
        "answer_month_sin = row[\"day_of_month_sin\"]\n",
        "answer_lag7 = row[\"lag_7\"]\n",
        "\n",
        "print(answer_month)\n",
        "print(answer_month_sin)\n",
        "print(answer_lag7)"
      ]
    },
    {
      "cell_type": "markdown",
      "id": "03046e2e",
      "metadata": {
        "id": "03046e2e"
      },
      "source": [
        "# Splitting the dataset\n",
        "\n",
        "Unlike normal problems with tabular data, we can't randomly split the data (since each row has a temporal component).\n",
        "\n",
        "For this we will manually split the dataset and keep the last 30 as test data."
      ]
    },
    {
      "cell_type": "code",
      "execution_count": null,
      "id": "639a8f91",
      "metadata": {
        "id": "639a8f91"
      },
      "outputs": [],
      "source": [
        "y = df.pop(\"units_sold\")\n",
        "X = df.copy()"
      ]
    },
    {
      "cell_type": "code",
      "execution_count": null,
      "id": "a363a498",
      "metadata": {
        "id": "a363a498"
      },
      "outputs": [],
      "source": [
        "X_train, y_train = X.iloc[:-30], y.iloc[:-30]\n",
        "X_test, y_test = X.iloc[-30:], y.iloc[-30:]"
      ]
    },
    {
      "cell_type": "code",
      "execution_count": null,
      "id": "6ee2c3c1",
      "metadata": {
        "id": "6ee2c3c1"
      },
      "outputs": [],
      "source": [
        "X_train.shape, y_train.shape"
      ]
    },
    {
      "cell_type": "code",
      "execution_count": null,
      "id": "bcb8933b",
      "metadata": {
        "id": "bcb8933b"
      },
      "outputs": [],
      "source": [
        "X_test.shape, y_test.shape"
      ]
    },
    {
      "cell_type": "markdown",
      "id": "f2155cf1",
      "metadata": {
        "id": "f2155cf1"
      },
      "source": [
        "# Training with a simple AR model"
      ]
    },
    {
      "cell_type": "code",
      "execution_count": null,
      "id": "31aab505",
      "metadata": {
        "id": "31aab505"
      },
      "outputs": [],
      "source": [
        "arima = ARIMA(y_train, order=(7, 1, 0))\n",
        "arima_res = arima.fit()"
      ]
    },
    {
      "cell_type": "code",
      "execution_count": null,
      "id": "fe8b5963",
      "metadata": {
        "id": "fe8b5963"
      },
      "outputs": [],
      "source": [
        "y_pred = arima_res.forecast(steps=30)\n",
        "y_pred.head()"
      ]
    },
    {
      "cell_type": "code",
      "execution_count": null,
      "id": "14b3889a",
      "metadata": {
        "id": "14b3889a"
      },
      "outputs": [],
      "source": [
        "mean_squared_error(y_pred, y_test.values, squared=True)"
      ]
    },
    {
      "cell_type": "code",
      "execution_count": null,
      "id": "f2f1968e",
      "metadata": {
        "id": "f2f1968e"
      },
      "outputs": [],
      "source": [
        "fig, ax = plt.subplots()\n",
        "ax.plot(y_pred.values, label=\"predicted\")\n",
        "ax.plot(y_test.values, label=\"original\")\n",
        "ax.legend()"
      ]
    },
    {
      "cell_type": "markdown",
      "id": "cb0f5e3b",
      "metadata": {
        "id": "cb0f5e3b"
      },
      "source": [
        "# Training using ML with Tabular Data\n",
        "\n",
        "For simplicity we are going to use only the numerical features, without trying to properly encode the other ones."
      ]
    },
    {
      "cell_type": "code",
      "execution_count": null,
      "id": "5f3953b1",
      "metadata": {
        "id": "5f3953b1"
      },
      "outputs": [],
      "source": [
        "params = {\n",
        "    'max_depth': 4,\n",
        "    'learning_rate': 0.01,\n",
        "    'n_estimators': 450,\n",
        "    'boosting_type': 'gbdt',\n",
        "    'seed': 200,\n",
        "    'num_threads': 1\n",
        "}\n",
        "\n",
        "model = lgb.LGBMRegressor(**params)\n",
        "\n",
        "model.fit(X_train.select_dtypes(include=[\"float\", \"int\"]), y_train)"
      ]
    },
    {
      "cell_type": "code",
      "execution_count": null,
      "id": "320f2174",
      "metadata": {
        "id": "320f2174"
      },
      "outputs": [],
      "source": [
        "y_pred = model.predict(X_test.select_dtypes(include=[\"float\", \"int\"]))"
      ]
    },
    {
      "cell_type": "code",
      "execution_count": null,
      "id": "74f9b78e",
      "metadata": {
        "id": "74f9b78e"
      },
      "outputs": [],
      "source": [
        "mean_squared_error(y_pred, y_test.values, squared=True)"
      ]
    },
    {
      "cell_type": "code",
      "execution_count": null,
      "id": "be302352",
      "metadata": {
        "id": "be302352"
      },
      "outputs": [],
      "source": [
        "fig, ax = plt.subplots()\n",
        "ax.plot(y_pred, label=\"predicted\", marker=\"*\")\n",
        "ax.plot(y_test.values, label=\"original\", marker=\"o\")\n",
        "ax.legend()"
      ]
    },
    {
      "cell_type": "markdown",
      "id": "72a09dce",
      "metadata": {
        "id": "72a09dce"
      },
      "source": [
        "# Summary\n",
        "\n",
        "We showed how we can build a tabular dataset from a time-series and how we can use traditional techniques such as `Regression Trees` to train such model.\n",
        "\n",
        "In this example our analysis was quite basic and we kept only a minium number of variables.\n",
        "\n",
        "Furthermore, an approach that was not explored is to train several items at the same (which requires more computing power), which can further incrase the performance of the model."
      ]
    },
    {
      "cell_type": "code",
      "execution_count": null,
      "id": "0f6d7207",
      "metadata": {
        "id": "0f6d7207"
      },
      "outputs": [],
      "source": []
    },
    {
      "cell_type": "code",
      "execution_count": null,
      "id": "cfead416",
      "metadata": {
        "id": "cfead416"
      },
      "outputs": [],
      "source": [
        "\n",
        "proposed_solution = {\n",
        "'attempt': {\n",
        "    'course_name': COURSE_NAME,\n",
        "    'exercise_name': EXERCISE_NAME,\n",
        "    'username': STUDENT_NAME,\n",
        "},\n",
        "'task_attempts': [\n",
        "\t{\n",
        "\t\t\"name\": \"Month\",\n",
        "\t\t\"answer\": str(answer_month),\n",
        "\t},\n",
        "\t{\n",
        "\t\t\"name\": \"Month Sin\",\n",
        "\t\t\"answer\": str(answer_month_sin),\n",
        "\t},\n",
        "\t{\n",
        "\t\t\"name\": \"7th Lag\",\n",
        "\t\t\"answer\": str(answer_lag7),\n",
        "\t},\n",
        "]\n",
        "\n",
        "\n",
        "}\n",
        "check_solution(proposed_solution)\n",
        ""
      ]
    }
  ],
  "metadata": {
    "colab": {
      "provenance": []
    }
  },
  "nbformat": 4,
  "nbformat_minor": 5
}